{
  "nbformat": 4,
  "nbformat_minor": 0,
  "metadata": {
    "language_info": {
      "codemirror_mode": {
        "name": "ipython",
        "version": 3
      },
      "file_extension": ".py",
      "mimetype": "text/x-python",
      "name": "python",
      "nbconvert_exporter": "python",
      "pygments_lexer": "ipython3",
      "version": "3.7.9-final"
    },
    "orig_nbformat": 2,
    "kernelspec": {
      "name": "Python 3.7.9 64-bit ('py37': conda)",
      "display_name": "Python 3.7.9 64-bit ('py37': conda)",
      "metadata": {
        "interpreter": {
          "hash": "0b945436f5892b71cd6f53044c0f9a29dc8fc2f4110bc21510f71fa447a63fd4"
        }
      }
    },
    "colab": {
      "name": "main.ipynb",
      "provenance": [],
      "collapsed_sections": []
    },
    "accelerator": "GPU"
  },
  "cells": [
    {
      "cell_type": "code",
      "metadata": {
        "id": "7SZ85gI3EuCB",
        "colab": {
          "base_uri": "https://localhost:8080/",
          "height": 34
        },
        "outputId": "6ed3da92-735e-43ed-bedb-a9ef4e92007c"
      },
      "source": [
        "from google.colab import drive\n",
        "drive.mount('/content/gdrive')"
      ],
      "execution_count": null,
      "outputs": [
        {
          "output_type": "error",
          "ename": "ModuleNotFoundError",
          "evalue": "No module named 'google'",
          "traceback": [
            "\u001b[0;31m---------------------------------------------------------------------------\u001b[0m",
            "\u001b[0;31mModuleNotFoundError\u001b[0m                       Traceback (most recent call last)",
            "\u001b[0;32m<ipython-input-1-4996ee3d8d09>\u001b[0m in \u001b[0;36m<module>\u001b[0;34m\u001b[0m\n\u001b[0;32m----> 1\u001b[0;31m \u001b[0;32mfrom\u001b[0m \u001b[0mgoogle\u001b[0m\u001b[0;34m.\u001b[0m\u001b[0mcolab\u001b[0m \u001b[0;32mimport\u001b[0m \u001b[0mdrive\u001b[0m\u001b[0;34m\u001b[0m\u001b[0;34m\u001b[0m\u001b[0m\n\u001b[0m\u001b[1;32m      2\u001b[0m \u001b[0mdrive\u001b[0m\u001b[0;34m.\u001b[0m\u001b[0mmount\u001b[0m\u001b[0;34m(\u001b[0m\u001b[0;34m'/content/gdrive'\u001b[0m\u001b[0;34m)\u001b[0m\u001b[0;34m\u001b[0m\u001b[0;34m\u001b[0m\u001b[0m\n",
            "\u001b[0;31mModuleNotFoundError\u001b[0m: No module named 'google'"
          ]
        }
      ]
    },
    {
      "cell_type": "code",
      "metadata": {
        "id": "4hUSwn_XFNpl"
      },
      "source": [
        "! ls"
      ],
      "execution_count": null,
      "outputs": []
    },
    {
      "cell_type": "code",
      "metadata": {
        "id": "OMBgp_XWFVeE"
      },
      "source": [
        "%cd gdrive/My Drive/"
      ],
      "execution_count": null,
      "outputs": []
    },
    {
      "cell_type": "code",
      "metadata": {
        "id": "giP9PSW1EDzr"
      },
      "source": [
        "import torch\n",
        "import random\n",
        "from torch.utils.data import DataLoader,Dataset\n",
        "import torch.nn as nn\n",
        "import torch.optim as optim\n",
        "from matplotlib import pyplot as plt \n",
        "from torchvision.utils import make_grid\n",
        "import torchvision.transforms as transforms\n",
        "import torch.nn.functional as F \n",
        "import torch.utils.data\n",
        "import torchvision\n",
        "import numpy as np\n",
        "from torch.autograd import Variable"
      ],
      "execution_count": 1,
      "outputs": []
    },
    {
      "cell_type": "code",
      "metadata": {
        "id": "2aKBwEuoL3UH"
      },
      "source": [
        "class Discriminator(nn.Module):\n",
        "    def __init__(self):\n",
        "        super().__init__()\n",
        "        self.label_emb = nn.Embedding(10, 10)\n",
        "        self.model = nn.Sequential(\n",
        "            nn.Linear(74, 1024),\n",
        "            nn.LeakyReLU(0.2, inplace=True),\n",
        "            nn.Dropout(0.3),\n",
        "            nn.Linear(1024, 512),\n",
        "            nn.LeakyReLU(0.2, inplace=True),\n",
        "            nn.Dropout(0.3),\n",
        "            nn.Linear(512, 256),\n",
        "            nn.LeakyReLU(0.2, inplace=True),\n",
        "            nn.Dropout(0.3),\n",
        "            nn.Linear(256, 1),\n",
        "            nn.Sigmoid()\n",
        "        )\n",
        "    \n",
        "    def forward(self, x, labels):\n",
        "        x = x.view(x.size(0), 64)\n",
        "        c = self.label_emb(labels)\n",
        "        x = torch.cat([x, c], 1)\n",
        "        out = self.model(x)\n",
        "        return out.squeeze()"
      ],
      "execution_count": 2,
      "outputs": []
    },
    {
      "cell_type": "code",
      "metadata": {
        "id": "q0AmbaPML3UJ"
      },
      "source": [
        "class Generator(nn.Module):\n",
        "    def __init__(self):\n",
        "        super().__init__()\n",
        "        \n",
        "        self.label_emb = nn.Embedding(10, 10)\n",
        "        \n",
        "        self.model = nn.Sequential(\n",
        "            nn.Linear(110, 256),\n",
        "            nn.LeakyReLU(0.2, inplace=True),\n",
        "            nn.Linear(256, 512),\n",
        "            nn.LeakyReLU(0.2, inplace=True),\n",
        "            nn.Linear(512, 1024),\n",
        "            nn.LeakyReLU(0.2, inplace=True),\n",
        "            nn.Linear(1024, 64),\n",
        "            nn.Tanh()\n",
        "        )\n",
        "    \n",
        "    def forward(self, z, labels):\n",
        "        z = z.view(z.size(0), 100)\n",
        "        c = self.label_emb(labels)\n",
        "        x = torch.cat([z, c], 1)\n",
        "        out = self.model(x)\n",
        "        return out.view(x.size(0), 8, 8)"
      ],
      "execution_count": 3,
      "outputs": []
    },
    {
      "cell_type": "code",
      "metadata": {
        "id": "ybVw39wYFT3j",
        "colab": {
          "base_uri": "https://localhost:8080/"
        },
        "outputId": "25e0dc20-2b61-4eae-d292-692b5ea37149"
      },
      "source": [
        "device=torch.device('cuda' if torch.cuda.is_available() else 'cpu')\n",
        "print(device)"
      ],
      "execution_count": 4,
      "outputs": [
        {
          "output_type": "stream",
          "text": [
            "cuda\n"
          ],
          "name": "stdout"
        }
      ]
    },
    {
      "cell_type": "code",
      "metadata": {
        "id": "UD1pxYMdEDz8"
      },
      "source": [
        "#HyperParameters\n",
        "Batch_size=100\n",
        "lr=0.0002\n",
        "epochs=10"
      ],
      "execution_count": 5,
      "outputs": []
    },
    {
      "cell_type": "code",
      "metadata": {
        "id": "Q0EAt2xtED0M"
      },
      "source": [
        "\n",
        "'''\n",
        "Data_preprocessing:\n",
        "1 : Resizing the Image \n",
        "2 : Convert the Image to Torch Tensor\n",
        "3 : Normalize the Pixel value with additional Noise\n",
        "'''\n",
        "Data_transform=transforms.Compose([ transforms.Resize(8),\n",
        "                        transforms.ToTensor(),\n",
        "                        transforms.Normalize(mean=(0.1307,),std=(0.3081,))])"
      ],
      "execution_count": 6,
      "outputs": []
    },
    {
      "cell_type": "code",
      "metadata": {
        "id": "5xM4RFDnED0X"
      },
      "source": [
        "trainset=torchvision.datasets.MNIST(root='../data',train=True,download=True,transform=Data_transform)\n",
        "trainloader=DataLoader(trainset,batch_size=Batch_size,num_workers=2,shuffle=True)"
      ],
      "execution_count": 7,
      "outputs": []
    },
    {
      "cell_type": "code",
      "metadata": {
        "id": "9d58ezD9ED0o"
      },
      "source": [
        "#Utlitiy Function to Show the Generated Output\n",
        "def showimage(images):\n",
        "    image=images.cpu().numpy()\n",
        "    image=image/2+0.5\n",
        "    plt.imshow(np.transpose(images, axes=(1, 2, 0)))\n",
        "    plt.axis('off')\n",
        "    plt.show()"
      ],
      "execution_count": 8,
      "outputs": []
    },
    {
      "cell_type": "code",
      "metadata": {
        "id": "cskYcj-wED0x",
        "colab": {
          "base_uri": "https://localhost:8080/",
          "height": 283
        },
        "outputId": "03c00a94-3819-45d4-82a0-e2938d7226d7"
      },
      "source": [
        "#Sample input Images\n",
        "dataiter = iter(trainloader)\n",
        "images, labels = dataiter.next()\n",
        "print(images.size())\n",
        "showimage(make_grid(images[0:64]))"
      ],
      "execution_count": 9,
      "outputs": [
        {
          "output_type": "stream",
          "text": [
            "torch.Size([100, 1, 8, 8])\n"
          ],
          "name": "stdout"
        },
        {
          "output_type": "stream",
          "text": [
            "Clipping input data to the valid range for imshow with RGB data ([0..1] for floats or [0..255] for integers).\n"
          ],
          "name": "stderr"
        },
        {
          "output_type": "display_data",
          "data": {
            "image/png": "[encoded data removed]",
            "text/plain": [
              "<Figure size 432x288 with 1 Axes>"
            ]
          },
          "metadata": {
            "tags": [],
            "needs_background": "light"
          }
        }
      ]
    },
    {
      "cell_type": "code",
      "metadata": {
        "id": "aoKGTP_fED06",
        "colab": {
          "base_uri": "https://localhost:8080/"
        },
        "outputId": "621e321f-6967-4b7c-88b4-4bc87f59cc48"
      },
      "source": [
        "#Initializing Generator and Discriminator\n",
        "generator=Generator().to(device)\n",
        "discriminator=Discriminator().to(device)\n",
        "\n",
        "gen_params=list(generator.parameters())\n",
        "print(len(gen_params))\n",
        "\n",
        "disc_params=list(discriminator.parameters())\n",
        "print(len(disc_params))\n",
        "z = torch.randn(10, 100, device=device)\n",
        "print(z.shape)\n",
        "gen_labels = torch.randint(0, 10, (10,), device=device, dtype=torch.long)\n",
        "    #Generate Image with Noise and Labels\n",
        "l=generator(z,gen_labels)\n",
        "l"
      ],
      "execution_count": 10,
      "outputs": [
        {
          "output_type": "stream",
          "text": [
            "9\n",
            "9\n",
            "torch.Size([10, 100])\n"
          ],
          "name": "stdout"
        },
        {
          "output_type": "execute_result",
          "data": {
            "text/plain": [
              "tensor([[[ 1.1826e-02,  3.2993e-02,  3.7337e-02, -1.8821e-03, -6.1387e-03,\n",
              "           1.0400e-01,  2.6050e-03,  4.2848e-02],\n",
              "         [-3.0802e-02,  3.9360e-02,  7.1297e-02, -8.0361e-03, -1.0903e-01,\n",
              "          -3.2840e-02, -2.0068e-02,  1.9859e-02],\n",
              "         [ 8.3594e-02,  1.9363e-02,  1.8507e-02, -2.1207e-02,  4.8928e-03,\n",
              "          -5.0561e-02,  5.2163e-02, -1.0688e-01],\n",
              "         [ 3.8461e-02, -3.2735e-02, -1.6626e-02, -1.4647e-02,  2.2450e-02,\n",
              "           1.6357e-03, -1.7709e-02, -2.0903e-02],\n",
              "         [ 8.4273e-03,  4.7043e-02, -3.4088e-03, -8.7753e-03, -6.1502e-02,\n",
              "          -2.4482e-02, -2.5541e-02, -8.9770e-03],\n",
              "         [-2.9225e-02,  1.3276e-02,  4.6406e-02, -8.9087e-03,  1.8622e-02,\n",
              "          -1.9153e-02, -9.9726e-02,  3.2385e-03],\n",
              "         [-1.1733e-01,  5.4384e-02, -3.5372e-02, -5.3400e-02,  5.2268e-02,\n",
              "          -1.1544e-02,  7.2292e-02,  2.5970e-02],\n",
              "         [-3.4056e-02, -2.6836e-02, -1.0148e-01,  2.5104e-02,  2.4156e-02,\n",
              "           1.4361e-02,  4.5725e-02,  1.5389e-02]],\n",
              "\n",
              "        [[-5.3173e-02,  8.6941e-02,  9.1911e-02,  3.1215e-02,  1.7788e-03,\n",
              "           1.0423e-01,  4.8372e-02,  1.3350e-01],\n",
              "         [ 8.0517e-03,  1.9684e-02,  5.0838e-02,  3.4302e-02, -3.7419e-02,\n",
              "          -3.3581e-02, -1.5424e-01,  1.9268e-02],\n",
              "         [ 3.4153e-02, -9.5193e-03,  6.0074e-02, -5.9304e-02,  3.9456e-02,\n",
              "          -2.9263e-02,  5.3664e-02, -5.0668e-02],\n",
              "         [ 1.6954e-02, -6.7042e-02,  2.3463e-02, -2.9575e-02,  1.2164e-02,\n",
              "           1.3422e-02, -8.3697e-02,  5.1827e-02],\n",
              "         [ 1.0123e-02, -1.3205e-02, -3.0338e-03,  3.2666e-02,  2.6068e-02,\n",
              "           9.8917e-03, -4.9487e-02, -6.3699e-02],\n",
              "         [-3.1638e-02,  1.3257e-02, -1.2135e-02,  7.8389e-03,  5.8183e-02,\n",
              "           7.5772e-03, -7.9552e-03, -3.3093e-02],\n",
              "         [-1.0925e-01,  1.1950e-01,  4.0445e-02, -1.0152e-01,  5.4936e-02,\n",
              "           7.7739e-03,  4.6954e-02,  4.6709e-02],\n",
              "         [ 4.5727e-03, -6.8995e-02, -8.5758e-02,  6.5904e-03,  4.9144e-02,\n",
              "           5.6144e-02,  5.6467e-02, -2.3606e-03]],\n",
              "\n",
              "        [[-4.7017e-02,  1.0926e-01, -1.0908e-03,  2.7374e-04, -2.8737e-02,\n",
              "           6.1194e-02, -1.1169e-02,  3.5234e-02],\n",
              "         [ 4.1808e-03,  1.0769e-02,  8.1744e-02, -1.9857e-02, -3.0659e-02,\n",
              "          -4.6790e-02, -2.5931e-02,  5.8964e-02],\n",
              "         [ 4.8415e-02, -1.8603e-02, -1.9749e-02, -3.4218e-02,  3.8759e-02,\n",
              "          -7.9744e-02,  7.3680e-02, -7.2210e-03],\n",
              "         [-2.2855e-02, -6.3080e-02,  4.4575e-02,  2.6575e-02,  6.7683e-03,\n",
              "           1.8755e-02, -9.8564e-02,  8.7229e-02],\n",
              "         [ 1.1660e-02, -5.2768e-03,  7.2221e-02,  4.3594e-02,  2.5243e-02,\n",
              "          -2.6031e-02,  3.6723e-03, -1.8184e-02],\n",
              "         [-2.4018e-02,  1.1426e-02,  4.2795e-03,  4.1336e-02,  5.0264e-02,\n",
              "          -4.6615e-03,  7.0970e-03,  7.0009e-02],\n",
              "         [-6.3686e-02,  1.0209e-01,  3.9084e-02, -2.0491e-02,  2.1719e-02,\n",
              "          -1.4664e-02,  5.0323e-02,  8.9864e-02],\n",
              "         [ 1.0060e-02, -5.5631e-02, -1.4651e-01,  6.4515e-03,  1.7912e-02,\n",
              "           1.8878e-02,  6.3564e-02, -8.6761e-02]],\n",
              "\n",
              "        [[-4.2340e-02, -1.9621e-02,  7.2896e-02, -5.6938e-02, -2.8326e-02,\n",
              "          -6.6928e-03, -5.5823e-03,  6.8470e-02],\n",
              "         [-4.0079e-04,  2.0689e-02,  6.0921e-02,  1.1209e-03, -4.8917e-02,\n",
              "          -2.3636e-02, -6.8881e-02,  5.2880e-02],\n",
              "         [ 1.3064e-02,  5.8268e-03,  1.0842e-02,  3.7366e-03,  7.9162e-02,\n",
              "          -5.1366e-02,  3.2275e-02, -4.5903e-02],\n",
              "         [ 9.8236e-03, -6.6430e-02, -1.7180e-02, -6.6043e-02,  7.8598e-02,\n",
              "           2.0752e-02, -3.3662e-02,  3.2599e-02],\n",
              "         [-1.6598e-02,  3.6415e-02,  3.5921e-02, -1.2328e-02,  8.4376e-03,\n",
              "          -3.5347e-02,  3.0753e-02, -5.8796e-02],\n",
              "         [-6.3734e-03, -5.0705e-02,  3.9214e-03,  5.6508e-02,  1.5602e-02,\n",
              "          -8.6111e-03, -4.3512e-02, -3.0911e-02],\n",
              "         [-1.2055e-01,  1.3268e-01,  4.7926e-02, -5.6074e-02,  4.4500e-02,\n",
              "          -2.0722e-02,  1.1141e-01,  2.6751e-02],\n",
              "         [-1.4387e-02, -1.8673e-02, -5.8100e-02,  4.9758e-02, -7.1485e-02,\n",
              "           9.0372e-02,  1.2363e-01, -1.0701e-02]],\n",
              "\n",
              "        [[-6.2800e-02,  8.6644e-03,  6.5513e-02, -3.8242e-04, -3.9469e-02,\n",
              "           1.0121e-01, -4.3576e-02,  1.0863e-01],\n",
              "         [ 4.3975e-02, -2.6749e-02,  6.7092e-02,  4.6145e-03, -3.0392e-02,\n",
              "          -8.7297e-02, -2.9798e-02,  5.1950e-02],\n",
              "         [ 3.3941e-02, -5.3303e-03,  2.0803e-02, -4.8484e-02,  4.4312e-02,\n",
              "          -2.0239e-02,  5.3882e-02, -9.5701e-02],\n",
              "         [ 1.4783e-02, -8.7249e-02,  2.5553e-02, -2.6819e-02,  4.9150e-02,\n",
              "           5.1201e-02, -1.1391e-01,  6.9316e-02],\n",
              "         [ 4.2398e-02, -7.2964e-02,  4.4871e-03, -2.1635e-02, -3.1255e-02,\n",
              "          -2.8566e-02,  4.4312e-02, -3.9069e-02],\n",
              "         [ 3.4486e-02, -3.5600e-02,  3.6218e-02,  6.3684e-02,  2.3317e-02,\n",
              "          -3.6114e-04, -3.4925e-02,  5.0153e-02],\n",
              "         [-1.3799e-01,  1.1699e-01,  2.9601e-02, -1.1858e-01,  4.1960e-02,\n",
              "          -6.7729e-02,  4.9488e-02,  6.2221e-02],\n",
              "         [-8.6755e-02, -3.5583e-02, -1.4389e-01,  5.1936e-02, -1.5698e-02,\n",
              "           5.5100e-02,  9.6610e-02, -1.8038e-02]],\n",
              "\n",
              "        [[-1.0129e-01,  4.4168e-02,  7.9872e-02, -7.6906e-03, -2.3705e-02,\n",
              "           6.3665e-02,  4.3103e-02,  6.4923e-02],\n",
              "         [ 4.9223e-02,  2.9568e-02,  3.6094e-03, -4.8977e-02,  2.9518e-04,\n",
              "          -2.0953e-02, -1.4996e-03,  5.1069e-02],\n",
              "         [ 5.6092e-02,  1.0556e-02, -1.6090e-02,  5.5500e-03,  3.4733e-02,\n",
              "          -8.9713e-02,  7.0169e-03, -4.5925e-02],\n",
              "         [-1.2918e-02, -1.2886e-02, -2.6568e-02, -1.4700e-02,  5.5774e-02,\n",
              "           9.1662e-03, -1.7116e-02,  5.0235e-02],\n",
              "         [ 4.6921e-02,  1.2974e-02, -5.2245e-03, -1.0585e-02, -1.2624e-02,\n",
              "          -6.0668e-02,  5.6617e-02, -4.9556e-02],\n",
              "         [ 1.2709e-02, -4.0649e-02, -1.5626e-02,  4.0429e-02, -2.8709e-03,\n",
              "           8.4751e-03, -6.3814e-03,  4.3431e-02],\n",
              "         [-1.0256e-01,  8.5052e-02, -3.4662e-02, -3.0976e-02,  4.3737e-02,\n",
              "          -7.5379e-02,  1.3366e-01,  9.1824e-02],\n",
              "         [ 2.1725e-02, -7.2217e-04, -1.0583e-01,  6.0059e-02, -3.5745e-02,\n",
              "           5.5518e-02,  4.4288e-02,  1.8077e-02]],\n",
              "\n",
              "        [[ 3.2454e-02,  3.0536e-02,  3.3484e-02, -3.5630e-03, -1.9899e-02,\n",
              "           1.0917e-01,  1.6400e-03,  2.6645e-02],\n",
              "         [-1.9406e-02, -1.6044e-02,  4.2721e-03, -3.4044e-02, -1.2534e-01,\n",
              "          -4.8587e-02, -2.3428e-02,  8.5248e-02],\n",
              "         [ 1.4217e-02, -1.8940e-02, -2.3284e-02, -5.9484e-02,  2.6061e-02,\n",
              "          -3.6028e-02,  6.5862e-02, -6.3262e-02],\n",
              "         [ 1.1180e-02, -6.2296e-02, -3.7773e-02,  6.5889e-02, -1.8848e-02,\n",
              "          -3.0385e-02,  1.1140e-02,  3.4412e-02],\n",
              "         [ 6.3175e-02, -8.8285e-03,  2.9604e-02, -4.0657e-02, -7.4943e-02,\n",
              "          -2.5437e-02,  3.6825e-02, -8.7401e-02],\n",
              "         [-2.0571e-02,  1.9716e-02,  2.1355e-02, -3.4353e-02,  2.3116e-02,\n",
              "          -5.7828e-02, -2.8520e-03, -4.5586e-03],\n",
              "         [-4.5001e-02,  1.0160e-01, -5.5840e-02, -8.4221e-02,  3.7215e-03,\n",
              "           2.2903e-02,  7.7558e-02,  3.7390e-02],\n",
              "         [ 6.4892e-03, -3.5261e-04, -1.1531e-01, -5.1135e-03,  9.5682e-02,\n",
              "           3.5686e-02,  3.4627e-02, -4.2921e-02]],\n",
              "\n",
              "        [[ 1.8641e-02,  1.1023e-01,  1.4096e-02, -5.4688e-02, -2.0094e-02,\n",
              "           9.4261e-02,  2.6315e-02,  4.3132e-02],\n",
              "         [ 2.4630e-02,  2.8509e-02,  6.9345e-02,  6.0733e-02, -4.5724e-02,\n",
              "          -2.3319e-02, -1.1697e-01,  9.1298e-02],\n",
              "         [ 5.4741e-02, -1.0654e-02,  4.6891e-02, -2.3846e-02,  2.2476e-02,\n",
              "          -9.1062e-02,  2.3573e-03, -8.2488e-02],\n",
              "         [ 6.7930e-02, -7.4144e-02,  5.7111e-02,  1.7709e-02,  1.3904e-02,\n",
              "           4.1799e-02, -1.1003e-01,  5.4723e-02],\n",
              "         [ 1.1892e-02,  7.9409e-03,  5.2561e-02, -1.9175e-02, -7.8705e-02,\n",
              "           2.0860e-02,  5.8306e-02, -1.1568e-01],\n",
              "         [-5.6235e-02,  1.8242e-02,  3.1807e-02, -3.6917e-02, -1.1358e-02,\n",
              "           7.4293e-02, -5.5956e-03,  3.4343e-02],\n",
              "         [-5.9510e-02,  7.5770e-02, -4.5340e-04, -6.1583e-02,  5.2418e-02,\n",
              "          -2.0749e-02,  7.0582e-02,  8.2449e-02],\n",
              "         [-9.5114e-03, -4.4647e-02, -1.0514e-01, -9.8068e-03,  5.2765e-02,\n",
              "           9.0059e-03,  9.6292e-02, -5.0381e-02]],\n",
              "\n",
              "        [[-2.4393e-02,  3.3682e-02,  7.2858e-02, -7.7771e-05, -4.8244e-02,\n",
              "           7.6612e-02, -1.1183e-03,  2.1557e-02],\n",
              "         [-1.4451e-03,  2.5675e-02,  4.8030e-02, -2.5407e-03, -3.3542e-02,\n",
              "          -6.9496e-02, -6.0009e-02,  5.5774e-02],\n",
              "         [ 5.8704e-02, -4.1101e-02,  3.0572e-04, -4.4226e-02, -1.9456e-02,\n",
              "          -1.9496e-02,  4.5997e-03, -8.8237e-02],\n",
              "         [ 3.8597e-02, -7.8308e-02,  2.0655e-02,  5.7851e-02, -5.2858e-04,\n",
              "           2.1718e-02, -1.1825e-01,  7.0254e-02],\n",
              "         [-2.4772e-03, -5.5574e-03,  1.5755e-02,  4.7682e-02, -8.4218e-03,\n",
              "           2.0275e-03,  2.0147e-02, -5.0082e-02],\n",
              "         [-4.3514e-02, -1.5053e-02,  4.7533e-02, -1.9006e-02,  6.7537e-02,\n",
              "           9.8229e-03,  1.9246e-02,  3.4505e-02],\n",
              "         [-6.2445e-02,  4.1660e-02, -3.5577e-03, -5.8719e-02,  7.1506e-02,\n",
              "          -1.6595e-03,  7.5895e-02,  9.0556e-02],\n",
              "         [-1.8466e-03, -1.2356e-02, -1.1000e-01, -2.2561e-02,  4.2259e-02,\n",
              "           1.4036e-02,  8.2285e-02, -1.8477e-02]],\n",
              "\n",
              "        [[-1.9160e-02,  7.5690e-02,  7.3892e-02, -3.0686e-03,  5.1034e-02,\n",
              "           9.6881e-02,  3.7554e-02,  3.2377e-02],\n",
              "         [ 1.3142e-02, -1.6011e-02,  1.8050e-02,  1.1104e-02, -6.6909e-03,\n",
              "          -7.6938e-02, -3.8511e-02,  1.3587e-01],\n",
              "         [ 1.9447e-02, -1.7655e-02,  3.1410e-02, -2.0811e-02,  1.7107e-02,\n",
              "          -1.2228e-02,  2.9089e-03, -7.5413e-02],\n",
              "         [ 6.2487e-02, -9.5557e-02, -4.7842e-02, -1.0001e-02, -2.6954e-03,\n",
              "          -1.1490e-03, -6.0910e-02,  6.9371e-02],\n",
              "         [-2.9750e-02, -5.3488e-03,  2.4111e-02,  1.3500e-02,  2.0143e-02,\n",
              "          -2.2566e-02, -2.4412e-02, -6.3966e-02],\n",
              "         [-3.6301e-02,  1.0408e-02, -8.0615e-03, -3.9117e-02,  2.9719e-02,\n",
              "           1.4893e-02, -6.7528e-02, -8.5963e-02],\n",
              "         [-9.4317e-02,  5.1216e-02,  1.4050e-02, -1.1014e-01, -1.1611e-02,\n",
              "          -3.7332e-03,  1.2242e-01,  5.2733e-02],\n",
              "         [ 2.0990e-02, -8.1621e-02, -9.6758e-02,  2.2213e-02,  4.3212e-02,\n",
              "           4.3842e-02,  5.6877e-02, -2.8984e-02]]], device='cuda:0',\n",
              "       grad_fn=<ViewBackward>)"
            ]
          },
          "metadata": {
            "tags": []
          },
          "execution_count": 10
        }
      ]
    },
    {
      "cell_type": "code",
      "metadata": {
        "id": "i3m-s9FcED1B"
      },
      "source": [
        "#LOSS\n",
        "criterion = nn.BCELoss().cuda()\n",
        "\n",
        "# Optimizer\n",
        "optimG = optim.Adam(generator.parameters(), lr, betas=(0.5, 0.999))\n",
        "optimD = optim.Adam(discriminator.parameters(), lr, betas=(0.5, 0.999))\n"
      ],
      "execution_count": 11,
      "outputs": []
    },
    {
      "cell_type": "code",
      "metadata": {
        "id": "DpC-hRW0DwXw"
      },
      "source": [
        "#Label Smoothening\n",
        "real_labels = 0.7 + 0.5 * torch.rand(10, device=device)  \n",
        "fake_labels = 0.3 * torch.rand(10, device=device)"
      ],
      "execution_count": 12,
      "outputs": []
    },
    {
      "cell_type": "code",
      "metadata": {
        "id": "GviD7iv3ED1J"
      },
      "source": [
        "''' Function :train_generator\n",
        " -----To train the Generator Network-----\n",
        "'''\n",
        "def train_generator(batch_size,generator,discriminator):\n",
        "    optimG.zero_grad()\n",
        "    #generate Noise Samples and Randorm Labels from Latent Space\n",
        "    z = torch.randn(batch_size, 100, device=device)\n",
        "    gen_labels = torch.randint(0, 10, (batch_size,), device=device, dtype=torch.long)\n",
        "    #Generate Image with Noise and Labels\n",
        "    gen_imgs = generator(z, gen_labels)\n",
        "\n",
        "    #Image Generated is passed into Discriminator so as to Fool Discriminator and Loss is computed\n",
        "    validity = discriminator(gen_imgs, gen_labels)\n",
        "    g_loss = criterion(validity, Variable(torch.ones(batch_size,device=device)))\n",
        "    #Backprop and Weight Update\n",
        "    g_loss.backward()\n",
        "    optimG.step()\n",
        "    return g_loss.item()"
      ],
      "execution_count": 13,
      "outputs": []
    },
    {
      "cell_type": "code",
      "metadata": {
        "id": "Sir-rZabED1Q"
      },
      "source": [
        "''' Function :train_discriminator\n",
        " ------To train the Discriminator Network------\n",
        "'''\n",
        "def train_discriminator(batch_size,generator,discriminator,real_img,label,real,fake):\n",
        "    optimD.zero_grad()\n",
        "    validity_label = torch.full((batch_size,), real, device=device)\n",
        "    #Discriminator classifies the Real Images and Their Class Label\n",
        "    real_pred= discriminator(real_img,label)\n",
        "    d_real_loss = criterion(real_pred,validity_label)\n",
        "    D_x = real_pred.mean().item()\n",
        "    \n",
        "    #Noise and random Sample is generated for Fake Images\n",
        "    z = Variable(torch.randn(batch_size, 100,device=device))\n",
        "    fake_lbels = torch.randint(0, 10, (batch_size,), device=device, dtype=torch.long)\n",
        "    fake_images = generator(z, fake_lbels)\n",
        "    fake_validity = discriminator(fake_images, fake_lbels)\n",
        "    fake_loss = criterion(fake_validity, Variable(torch.zeros(batch_size,device=device)))\n",
        "    d_loss = d_real_loss + fake_loss\n",
        "    d_loss.backward()\n",
        "    optimD.step()\n",
        "    return d_loss.item(),D_x"
      ],
      "execution_count": 14,
      "outputs": []
    },
    {
      "cell_type": "code",
      "metadata": {
        "id": "7IMPwXm7ED1X",
        "colab": {
          "base_uri": "https://localhost:8080/",
          "height": 1000
        },
        "outputId": "25e87a34-4eb4-4c71-9f49-16484099f35f"
      },
      "source": [
        "for epoch in range(epochs):\n",
        "    for idx,(image,label) in enumerate(trainloader):\n",
        "        generator.train()\n",
        "        batch_size=image.size(0)\n",
        "        \n",
        "        image=image.to(device)\n",
        "        label=label.to(device)\n",
        "\n",
        "        real_label = real_labels[idx % 10]\n",
        "        fake_label = fake_labels[idx % 10]\n",
        "\n",
        "        # label flipping\n",
        "        if idx % 7 == 0:\n",
        "          real_label,fake_label=fake_label,real_label \n",
        "        \n",
        "        d_loss,D_x=train_discriminator(batch_size,generator,discriminator,image,label,real_label,fake_label)\n",
        "        g_loss=train_generator(batch_size,generator,discriminator)\n",
        "    print(\n",
        "          \"[Epoch %d/%d] [Batch %d/%d] [D loss: %f] [G loss: %f]\"\n",
        "          % (epoch, epochs, idx, len(trainloader), d_loss, g_loss))\n",
        "    #To Generate Image after Each Epoch\n",
        "    noise = torch.randn(10, 100, device=device)\n",
        "    labels = torch.randint(0, 10, (10,), dtype=torch.long, device=device, )\n",
        "    fakes = generator(noise, labels).unsqueeze(1).detach()\n",
        "    showimage(make_grid(fakes).cpu())"
      ],
      "execution_count": 15,
      "outputs": [
        {
          "output_type": "stream",
          "text": [
            "Clipping input data to the valid range for imshow with RGB data ([0..1] for floats or [0..255] for integers).\n"
          ],
          "name": "stderr"
        },
        {
          "output_type": "stream",
          "text": [
            "[Epoch 0/10] [Batch 599/600] [D loss: 1.038925] [G loss: 1.424628]\n"
          ],
          "name": "stdout"
        },
        {
          "output_type": "display_data",
          "data": {
            "image/png": "[encoded data removed]",
            "text/plain": [
              "<Figure size 432x288 with 1 Axes>"
            ]
          },
          "metadata": {
            "tags": [],
            "needs_background": "light"
          }
        },
        {
          "output_type": "stream",
          "text": [
            "Clipping input data to the valid range for imshow with RGB data ([0..1] for floats or [0..255] for integers).\n"
          ],
          "name": "stderr"
        },
        {
          "output_type": "stream",
          "text": [
            "[Epoch 1/10] [Batch 599/600] [D loss: 1.064182] [G loss: 1.829672]\n"
          ],
          "name": "stdout"
        },
        {
          "output_type": "display_data",
          "data": {
            "image/png": "[encoded data removed]",
            "text/plain": [
              "<Figure size 432x288 with 1 Axes>"
            ]
          },
          "metadata": {
            "tags": [],
            "needs_background": "light"
          }
        },
        {
          "output_type": "stream",
          "text": [
            "Clipping input data to the valid range for imshow with RGB data ([0..1] for floats or [0..255] for integers).\n"
          ],
          "name": "stderr"
        },
        {
          "output_type": "stream",
          "text": [
            "[Epoch 2/10] [Batch 599/600] [D loss: 0.851934] [G loss: 2.621915]\n"
          ],
          "name": "stdout"
        },
        {
          "output_type": "display_data",
          "data": {
            "image/png": "[encoded data removed]",
            "text/plain": [
              "<Figure size 432x288 with 1 Axes>"
            ]
          },
          "metadata": {
            "tags": [],
            "needs_background": "light"
          }
        },
        {
          "output_type": "stream",
          "text": [
            "Clipping input data to the valid range for imshow with RGB data ([0..1] for floats or [0..255] for integers).\n"
          ],
          "name": "stderr"
        },
        {
          "output_type": "stream",
          "text": [
            "[Epoch 3/10] [Batch 599/600] [D loss: 0.779531] [G loss: 3.062301]\n"
          ],
          "name": "stdout"
        },
        {
          "output_type": "display_data",
          "data": {
            "image/png": "[encoded data removed]",
            "text/plain": [
              "<Figure size 432x288 with 1 Axes>"
            ]
          },
          "metadata": {
            "tags": [],
            "needs_background": "light"
          }
        },
        {
          "output_type": "stream",
          "text": [
            "Clipping input data to the valid range for imshow with RGB data ([0..1] for floats or [0..255] for integers).\n"
          ],
          "name": "stderr"
        },
        {
          "output_type": "stream",
          "text": [
            "[Epoch 4/10] [Batch 599/600] [D loss: 0.810373] [G loss: 3.040044]\n"
          ],
          "name": "stdout"
        },
        {
          "output_type": "display_data",
          "data": {
            "image/png": "[encoded data removed]",
            "text/plain": [
              "<Figure size 432x288 with 1 Axes>"
            ]
          },
          "metadata": {
            "tags": [],
            "needs_background": "light"
          }
        },
        {
          "output_type": "stream",
          "text": [
            "Clipping input data to the valid range for imshow with RGB data ([0..1] for floats or [0..255] for integers).\n"
          ],
          "name": "stderr"
        },
        {
          "output_type": "stream",
          "text": [
            "[Epoch 5/10] [Batch 599/600] [D loss: 0.728441] [G loss: 3.556905]\n"
          ],
          "name": "stdout"
        },
        {
          "output_type": "display_data",
          "data": {
            "image/png": "[encoded data removed]",
            "text/plain": [
              "<Figure size 432x288 with 1 Axes>"
            ]
          },
          "metadata": {
            "tags": [],
            "needs_background": "light"
          }
        },
        {
          "output_type": "stream",
          "text": [
            "Clipping input data to the valid range for imshow with RGB data ([0..1] for floats or [0..255] for integers).\n"
          ],
          "name": "stderr"
        },
        {
          "output_type": "stream",
          "text": [
            "[Epoch 6/10] [Batch 599/600] [D loss: 0.755043] [G loss: 2.820496]\n"
          ],
          "name": "stdout"
        },
        {
          "output_type": "display_data",
          "data": {
            "image/png": "[encoded data removed]",
            "text/plain": [
              "<Figure size 432x288 with 1 Axes>"
            ]
          },
          "metadata": {
            "tags": [],
            "needs_background": "light"
          }
        },
        {
          "output_type": "stream",
          "text": [
            "Clipping input data to the valid range for imshow with RGB data ([0..1] for floats or [0..255] for integers).\n"
          ],
          "name": "stderr"
        },
        {
          "output_type": "stream",
          "text": [
            "[Epoch 7/10] [Batch 599/600] [D loss: 0.754870] [G loss: 3.049341]\n"
          ],
          "name": "stdout"
        },
        {
          "output_type": "display_data",
          "data": {
            "image/png": "[encoded data removed]",
            "text/plain": [
              "<Figure size 432x288 with 1 Axes>"
            ]
          },
          "metadata": {
            "tags": [],
            "needs_background": "light"
          }
        },
        {
          "output_type": "stream",
          "text": [
            "Clipping input data to the valid range for imshow with RGB data ([0..1] for floats or [0..255] for integers).\n"
          ],
          "name": "stderr"
        },
        {
          "output_type": "stream",
          "text": [
            "[Epoch 8/10] [Batch 599/600] [D loss: 0.678934] [G loss: 3.494853]\n"
          ],
          "name": "stdout"
        },
        {
          "output_type": "display_data",
          "data": {
            "image/png": "[encoded data removed]",
            "text/plain": [
              "<Figure size 432x288 with 1 Axes>"
            ]
          },
          "metadata": {
            "tags": [],
            "needs_background": "light"
          }
        },
        {
          "output_type": "stream",
          "text": [
            "Clipping input data to the valid range for imshow with RGB data ([0..1] for floats or [0..255] for integers).\n"
          ],
          "name": "stderr"
        },
        {
          "output_type": "stream",
          "text": [
            "[Epoch 9/10] [Batch 599/600] [D loss: 0.647892] [G loss: 3.245421]\n"
          ],
          "name": "stdout"
        },
        {
          "output_type": "display_data",
          "data": {
            "image/png": "[encoded data removed]",
            "text/plain": [
              "<Figure size 432x288 with 1 Axes>"
            ]
          },
          "metadata": {
            "tags": [],
            "needs_background": "light"
          }
        }
      ]
    },
    {
      "cell_type": "code",
      "metadata": {
        "id": "ZXoQrLoNKGKH"
      },
      "source": [
        ""
      ],
      "execution_count": 15,
      "outputs": []
    },
    {
      "cell_type": "code",
      "metadata": {
        "id": "riaCTBO3ED1e",
        "colab": {
          "base_uri": "https://localhost:8080/",
          "height": 156
        },
        "outputId": "63097b65-d0f7-44a9-b0e4-376207406689"
      },
      "source": [
        "noise = torch.randn(10, 100, device=device)\n",
        "labels = torch.randint(0, 10, (10,), dtype=torch.long, device=device, )\n",
        "fakes = generator(noise, labels).unsqueeze(1).detach()\n",
        "showimage(make_grid(fakes).cpu())\n",
        "\n",
        "print(\n",
        "          \"[Epoch %d/%d] [Batch %d/%d] [D loss: %f] [G loss: %f] [D(x): %f]\"\n",
        "          % (epoch, epochs, idx, len(trainloader), d_loss, g_loss,D_x))"
      ],
      "execution_count": 16,
      "outputs": [
        {
          "output_type": "stream",
          "text": [
            "Clipping input data to the valid range for imshow with RGB data ([0..1] for floats or [0..255] for integers).\n"
          ],
          "name": "stderr"
        },
        {
          "output_type": "display_data",
          "data": {
            "image/png": "[encoded data removed]",
            "text/plain": [
              "<Figure size 432x288 with 1 Axes>"
            ]
          },
          "metadata": {
            "tags": [],
            "needs_background": "light"
          }
        },
        {
          "output_type": "stream",
          "text": [
            "[Epoch 9/10] [Batch 599/600] [D loss: 0.647892] [G loss: 3.245421] [D(x): 0.781154]\n"
          ],
          "name": "stdout"
        }
      ]
    },
    {
      "cell_type": "code",
      "metadata": {
        "id": "gCh-o6JDED1n"
      },
      "source": [
        ""
      ],
      "execution_count": 16,
      "outputs": []
    },
    {
      "cell_type": "code",
      "metadata": {
        "id": "qKx0fgvjUsbb"
      },
      "source": [
        ""
      ],
      "execution_count": 16,
      "outputs": []
    },
    {
      "cell_type": "code",
      "metadata": {
        "id": "xZcrYYM-YeWp"
      },
      "source": [
        ""
      ],
      "execution_count": 16,
      "outputs": []
    }
  ]
}